{
 "cells": [
  {
   "cell_type": "markdown",
   "id": "cb6840e3",
   "metadata": {},
   "source": [
    "Провести дисперсионный анализ для определения того, есть ли различия среднего роста среди взрослых футболистов, хоккеистов и штангистов.\n",
    "Даны значения роста в трех группах случайно выбранных спортсменов:\n",
    "\n",
    "Футболисты: 173, 175, 180, 178, 177, 185, 183, 182.\n",
    "\n",
    "Хоккеисты: 177, 179, 180, 188, 177, 172, 171, 184, 180.\n",
    "\n",
    "Штангисты: 172, 173, 169, 177, 166, 180, 178, 177, 172, 166, 170."
   ]
  },
  {
   "cell_type": "code",
   "execution_count": 1,
   "id": "836362ab",
   "metadata": {},
   "outputs": [],
   "source": [
    "import numpy as np\n",
    "from scipy import stats\n",
    "import matplotlib.pyplot as plt"
   ]
  },
  {
   "cell_type": "markdown",
   "id": "03417233",
   "metadata": {},
   "source": [
    "Ho: mu1 = mu2 = mu3\n",
    "H1.1.: mu1 !=mu2\n",
    "H1.2.: mu1 !=mu3\n",
    "H1.3.: mu2 !=mu3\n",
    "alpha = 0.05"
   ]
  },
  {
   "cell_type": "code",
   "execution_count": 30,
   "id": "0bca3317",
   "metadata": {},
   "outputs": [
    {
     "data": {
      "text/plain": [
       "28"
      ]
     },
     "execution_count": 30,
     "metadata": {},
     "output_type": "execute_result"
    }
   ],
   "source": [
    "f = np.array([173, 175, 180, 178, 177, 185, 183, 182])\n",
    "h = np.array([177, 179, 180, 188, 177, 172, 171, 184, 180])\n",
    "w = np.array([172, 173, 169, 177, 166, 180, 178, 177, 172, 166, 170])\n",
    "k = 3\n",
    "n = len(f) + len(h) + len(w) #кол-во значений во всех выборках вместе\n",
    "n"
   ]
  },
  {
   "cell_type": "code",
   "execution_count": 34,
   "id": "e62173a3",
   "metadata": {},
   "outputs": [
    {
     "name": "stdout",
     "output_type": "stream",
     "text": [
      "ShapiroResult(statistic=0.9775082468986511, pvalue=0.9495404362678528)\n",
      "ShapiroResult(statistic=0.9579196572303772, pvalue=0.7763139009475708)\n",
      "ShapiroResult(statistic=0.9386808276176453, pvalue=0.5051165223121643)\n"
     ]
    }
   ],
   "source": [
    "print(stats.shapiro(f))\n",
    "print(stats.shapiro(h))\n",
    "print(stats.shapiro(w))"
   ]
  },
  {
   "cell_type": "code",
   "execution_count": null,
   "id": "94860bb4",
   "metadata": {},
   "outputs": [],
   "source": [
    "p_value> alphaб H0 не отвергается, распределение нормальное.\n",
    "Теперь проверим выборки на однородность дисперсий"
   ]
  },
  {
   "cell_type": "code",
   "execution_count": 35,
   "id": "c5ac25a3",
   "metadata": {},
   "outputs": [
    {
     "data": {
      "text/plain": [
       "BartlettResult(statistic=0.4640521043406442, pvalue=0.7929254656083131)"
      ]
     },
     "execution_count": 35,
     "metadata": {},
     "output_type": "execute_result"
    }
   ],
   "source": [
    "stats.bartlett(f, h,w ) # H0: все диспенрсии равны"
   ]
  },
  {
   "cell_type": "code",
   "execution_count": null,
   "id": "d3e11ace",
   "metadata": {},
   "outputs": [],
   "source": [
    "p_value> alpha, Ho не отвергается. Дисперсии однородны, дисперсионный анализ можем применить."
   ]
  },
  {
   "cell_type": "code",
   "execution_count": 8,
   "id": "f29f8e4d",
   "metadata": {},
   "outputs": [
    {
     "data": {
      "text/plain": [
       "(179.125, 178.66666666666666, 172.72727272727272)"
      ]
     },
     "execution_count": 8,
     "metadata": {},
     "output_type": "execute_result"
    }
   ],
   "source": [
    "f_mean = np.mean(f) #находим среднее значение для каждой выборки\n",
    "h_mean = np.mean(h)\n",
    "w_mean = np.mean(w)\n",
    "f_mean, h_mean, w_mean"
   ]
  },
  {
   "cell_type": "code",
   "execution_count": 22,
   "id": "dde8087c",
   "metadata": {},
   "outputs": [
    {
     "data": {
      "text/plain": [
       "array([173, 175, 180, 178, 177, 185, 183, 182, 177, 179, 180, 188, 177,\n",
       "       172, 171, 184, 180, 172, 173, 169, 177, 166, 180, 178, 177, 172,\n",
       "       166, 170])"
      ]
     },
     "execution_count": 22,
     "metadata": {},
     "output_type": "execute_result"
    }
   ],
   "source": [
    "total = np.concatenate((f, h, w))\n",
    "total"
   ]
  },
  {
   "cell_type": "code",
   "execution_count": 23,
   "id": "22d82b7e",
   "metadata": {},
   "outputs": [
    {
     "data": {
      "text/plain": [
       "176.46428571428572"
      ]
     },
     "execution_count": 23,
     "metadata": {},
     "output_type": "execute_result"
    }
   ],
   "source": [
    " #находим среднее значение среди всех значений\n",
    "total_mean = np.mean(total)\n",
    "total_mean"
   ]
  },
  {
   "cell_type": "code",
   "execution_count": 24,
   "id": "34ee5330",
   "metadata": {},
   "outputs": [
    {
     "data": {
      "text/plain": [
       "253.9074675324678"
      ]
     },
     "execution_count": 24,
     "metadata": {},
     "output_type": "execute_result"
    }
   ],
   "source": [
    "#Факторная. вычисляем сумму квадратов отлконений средних групповых значений от общего среднего\n",
    "s_f = np.sum((f_mean -total_mean)**2)*len(f) + np.sum((h_mean -total_mean)**2)*len(h) +np.sum((w_mean -total_mean)**2)*len(w)\n",
    "s_f"
   ]
  },
  {
   "cell_type": "code",
   "execution_count": 25,
   "id": "c117af7d",
   "metadata": {},
   "outputs": [
    {
     "data": {
      "text/plain": [
       "577.0568181818182"
      ]
     },
     "execution_count": 25,
     "metadata": {},
     "output_type": "execute_result"
    }
   ],
   "source": [
    "#вычисляемый остаточную сумму квадратов отклонений\n",
    "s_ost = np.sum((f - f_mean)**2)+np.sum((h - h_mean)**2)+np.sum((w - w_mean)**2)\n",
    "s_ost"
   ]
  },
  {
   "cell_type": "code",
   "execution_count": 26,
   "id": "4e9f02c6",
   "metadata": {},
   "outputs": [
    {
     "data": {
      "text/plain": [
       "126.9537337662339"
      ]
     },
     "execution_count": 26,
     "metadata": {},
     "output_type": "execute_result"
    }
   ],
   "source": [
    "D_f = s_f/(k-1)\n",
    "D_f"
   ]
  },
  {
   "cell_type": "code",
   "execution_count": 27,
   "id": "65da1442",
   "metadata": {},
   "outputs": [
    {
     "data": {
      "text/plain": [
       "23.08227272727273"
      ]
     },
     "execution_count": 27,
     "metadata": {},
     "output_type": "execute_result"
    }
   ],
   "source": [
    "D_ost = s_ost/(n-k)\n",
    "D_ost"
   ]
  },
  {
   "cell_type": "code",
   "execution_count": 28,
   "id": "8279337a",
   "metadata": {},
   "outputs": [
    {
     "data": {
      "text/plain": [
       "5.500053450812598"
      ]
     },
     "execution_count": 28,
     "metadata": {},
     "output_type": "execute_result"
    }
   ],
   "source": [
    "F_n = D_f/ D_ost\n",
    "F_n"
   ]
  },
  {
   "cell_type": "code",
   "execution_count": null,
   "id": "c54fb59d",
   "metadata": {},
   "outputs": [],
   "source": [
    "Табличное значение Ft = 3.38, Fn>Ft -> Гипотеза H0 отвергается.\n",
    "проверка вывода через p_value"
   ]
  },
  {
   "cell_type": "code",
   "execution_count": 29,
   "id": "2e5cb513",
   "metadata": {},
   "outputs": [
    {
     "data": {
      "text/plain": [
       "F_onewayResult(statistic=5.500053450812596, pvalue=0.010482206918698694)"
      ]
     },
     "execution_count": 29,
     "metadata": {},
     "output_type": "execute_result"
    }
   ],
   "source": [
    "f= stats.f_oneway(f, w, h)\n",
    "f"
   ]
  },
  {
   "cell_type": "code",
   "execution_count": null,
   "id": "e1da34be",
   "metadata": {},
   "outputs": [],
   "source": [
    "P_value <alpha (0.05) отвергаем H0,т.е. есть статистически значимые различия между ростом разных спортсменов есть\n"
   ]
  }
 ],
 "metadata": {
  "kernelspec": {
   "display_name": "Python 3 (ipykernel)",
   "language": "python",
   "name": "python3"
  },
  "language_info": {
   "codemirror_mode": {
    "name": "ipython",
    "version": 3
   },
   "file_extension": ".py",
   "mimetype": "text/x-python",
   "name": "python",
   "nbconvert_exporter": "python",
   "pygments_lexer": "ipython3",
   "version": "3.9.13"
  }
 },
 "nbformat": 4,
 "nbformat_minor": 5
}
